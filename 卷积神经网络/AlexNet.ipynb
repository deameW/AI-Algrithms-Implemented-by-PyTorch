{
 "cells": [
  {
   "cell_type": "markdown",
   "id": "d31a02fd",
   "metadata": {},
   "source": [
    "<img src=\"../images/alext_net.png\" width = 600 height = 500>"
   ]
  },
  {
   "cell_type": "markdown",
   "id": "1881d89f",
   "metadata": {},
   "source": [
    "【CONV1】： 96个11x11的卷积核，步长为4，没有零填充。参数：(11 * 11 * 3 +1) * 96<br>\n",
    "【MAX POOL1】: chuangkoudaxiao 3x3, 步长为2。降低图像尺寸，轻微对抗目标便宜带来的影响。 输出尺寸：(55-3)/2 +1 = 27。参数个数：0<br>\n",
    "【NORM1】:归一化层<br>\n",
    "【CONV2】：96个5x5的卷积核，步长为1，使用零填充p=2. 输出特征图尺寸： 27x27x96<br>\n",
    "【MAX POOL2】：256个5x5的卷积核，步长为1，使用零填充p=2。输出特征图：27x27x256<br>\n",
    "【NORM2】<br>\n",
    "【CONV3,CONV3】:384个3x3卷积核，步长为1，使用零填充p=1. 输出尺寸：13x13x384<br>\n",
    "【CONV5】：256ge 3x3卷积核，步长为1，使用零填充p=1.<br>\n",
    "【Max POOL3】：输出6x6x256<br>\n",
    "【FC6,FC7,FC8】:全连接神经网络分类\n"
   ]
  },
  {
   "cell_type": "code",
   "execution_count": 1,
   "id": "40b1db3b",
   "metadata": {},
   "outputs": [],
   "source": [
    "import torch\n",
    "import torchvision\n",
    "import torchvision.models\n",
    "\n",
    "from matplotlib import pyplot as plt\n",
    "from tqdm import tqdm\n",
    "from torch import nn\n",
    "from torch.utils.data import DataLoader\n",
    "from torchvision.transforms import transforms\n",
    "\n",
    "from PIL import ImageFile"
   ]
  },
  {
   "cell_type": "markdown",
   "id": "f4e56019",
   "metadata": {},
   "source": [
    "### 制作图片数据索引train.txt和test.txt两个文件"
   ]
  },
  {
   "cell_type": "code",
   "execution_count": 2,
   "id": "718d6373",
   "metadata": {},
   "outputs": [
    {
     "name": "stdout",
     "output_type": "stream",
     "text": [
      "<class 'str'>\n"
     ]
    }
   ],
   "source": [
    "import os\n",
    "\n",
    "train_txt_path = os.path.join(\"catVSdog\",\"train.txt\")\n",
    "train_dir = os.path.join(\"catVSdog\",\"train_data\")\n",
    "valid_txt_path = os.path.join(\"catVSdog\",\"test.txt\")\n",
    "valid_dir = os.path.join(\"catVSdog\",\"test_data\")\n",
    "\n",
    "print(type(train_dir))\n",
    "\n",
    "\n",
    "def gen_txt(txt_path, img_dir):\n",
    "    f = open(txt_path, 'w')\n",
    " \n",
    "    for root, s_dirs, _ in os.walk(img_dir, topdown=True):  # 获取 train文件下各文件夹名称\n",
    "        for sub_dir in s_dirs:\n",
    "            i_dir = os.path.join(root, sub_dir)             # 获取各类的文件夹 绝对路径\n",
    "            img_list = os.listdir(i_dir)                    # 获取类别文件夹下所有png图片的路径\n",
    "            for i in range(len(img_list)):\n",
    "                if not img_list[i].endswith('jpg'):         # 若不是png文件，跳过\n",
    "                    continue\n",
    "                #label = (img_list[i].split('.')[0] == 'cat')? 0 : 1 \n",
    "                label = img_list[i].split('.')[0]\n",
    "                # 将字符类别转为整型类型表示\n",
    "                if label == 'cat':\n",
    "                    label = '0'\n",
    "                else:\n",
    "                    label = '1'\n",
    "                img_path = os.path.join(i_dir, img_list[i])\n",
    "                line = img_path + ' ' + label + '\\n'\n",
    "                f.write(line)\n",
    "    f.close()"
   ]
  },
  {
   "cell_type": "code",
   "execution_count": 3,
   "id": "7cde8f1b",
   "metadata": {},
   "outputs": [],
   "source": [
    "gen_txt(train_txt_path,train_dir)\n",
    "gen_txt(valid_txt_path,valid_dir)"
   ]
  },
  {
   "cell_type": "markdown",
   "id": "d5824fb2",
   "metadata": {},
   "source": [
    "### 构建Dataset子类"
   ]
  },
  {
   "cell_type": "code",
   "execution_count": 4,
   "id": "4da3f4ad",
   "metadata": {},
   "outputs": [],
   "source": [
    "from PIL import Image\n",
    "from torch.utils.data import Dataset\n",
    "\n",
    "class MyDataset(Dataset):\n",
    "    #得到一个包含数据和标签的list\n",
    "    def __init__(self,txt_path,transform = None, target_transform = None):\n",
    "        fh = open(txt_path,'r')\n",
    "        imgs = []\n",
    "        for line in fh:\n",
    "            line = line.rstrip()\n",
    "            words = line.split()\n",
    "            imgs.append((words[0],int(words[1]))) #类别转换为整形int\n",
    "            self.imgs = imgs\n",
    "            self.transform = transform\n",
    "            self.target_transform = target_transform\n",
    "            \n",
    "    def __getitem__(self, index):\n",
    "        fn, label = self.imgs[index]\n",
    "        img = Image.open(fn).convert('RGB')\n",
    "        if self.transform is not None:\n",
    "            img =self.transform(img)\n",
    "        return img,label\n",
    "    \n",
    "    def __len__(self):\n",
    "        return len(self.imgs)"
   ]
  },
  {
   "cell_type": "markdown",
   "id": "86336aea",
   "metadata": {},
   "source": [
    "note:transform里边可以实现减均值、除标准差、随机裁剪、旋转、翻转、放射变换等操作"
   ]
  },
  {
   "cell_type": "markdown",
   "id": "9fda410f",
   "metadata": {},
   "source": [
    "### 加载数据集和数据预处理\n",
    "当Mydataset构建好，剩下的操作就交给DataLoder来加载数据集。在DataLoder中，会触发Mydataset中的getiterm函数读取一张图片的数据和标签，并拼接成一个batch返回，作为模型真正的输入。"
   ]
  },
  {
   "cell_type": "code",
   "execution_count": 5,
   "id": "f700e2d2",
   "metadata": {},
   "outputs": [],
   "source": [
    "pipeline_train= transforms.Compose([\n",
    "    # 随机选转图片\n",
    "    transforms.RandomHorizontalFlip(),\n",
    "    # 将图片尺寸resize到227x227\n",
    "    transforms.Resize((227,227)),\n",
    "    # 将图片转化为tensor格式\n",
    "    transforms.ToTensor(),\n",
    "    # 正则化\n",
    "    transforms.Normalize((0.5, 0.5, 0.5), (0.5, 0.5, 0.5))\n",
    "])\n",
    "\n",
    "\n",
    "pipeline_test = transforms.Compose([\n",
    "    #将图片尺寸resize到227x227\n",
    "    transforms.Resize((227,227)),\n",
    "    transforms.ToTensor(),\n",
    "    transforms.Normalize((0.5, 0.5, 0.5), (0.5, 0.5, 0.5))\n",
    "    #transforms.Normalize(mean = [0.485, 0.456, 0.406],std = [0.229, 0.224, 0.225])\n",
    "])\n",
    "\n",
    "train_data = MyDataset('./catVSdog/train.txt',transform = pipeline_train)\n",
    "test_data = MyDataset('./catVSdog/test.txt',transform = pipeline_test)\n",
    "\n",
    "#train_data 和test_data包含多有的训练与测试数据，调用DataLoader批量加载\n",
    "trainloader = torch.utils.data.DataLoader(dataset=train_data, batch_size=64, shuffle=True)\n",
    "testloader = torch.utils.data.DataLoader(dataset=test_data, batch_size=32, shuffle=False)\n",
    "# 类别信息也是需要我们给定的\n",
    "classes = ('cat', 'dog') # 对应label=0，label=1"
   ]
  },
  {
   "cell_type": "markdown",
   "id": "07e319eb",
   "metadata": {},
   "source": [
    "看一下最终制作的数据集图片和它们对应的标签："
   ]
  },
  {
   "cell_type": "code",
   "execution_count": null,
   "id": "d4650e96",
   "metadata": {},
   "outputs": [],
   "source": [
    "examples = enumerate(trainloader)\n",
    "batch_idx, (example_data, example_label) = next(examples)\n",
    "# 批量展示图片\n",
    "for i in range(4):\n",
    "    plt.subplot(1, 4, i + 1)\n",
    "    plt.tight_layout()  #自动调整子图参数，使之填充整个图像区域\n",
    "    img = example_data[i]\n",
    "    img = img.numpy() # FloatTensor转为ndarray\n",
    "    img = np.transpose(img, (1,2,0)) # 把channel那一维放到最后\n",
    "    img = img * [0.5, 0.5, 0.5] + [0.5, 0.5, 0.5]\n",
    "    plt.imshow(img)\n",
    "    plt.title(\"label:{}\".format(example_label[i]))\n",
    "    plt.xticks([])\n",
    "    plt.yticks([])\n",
    "plt.show()"
   ]
  },
  {
   "cell_type": "code",
   "execution_count": null,
   "id": "1ce7e92b",
   "metadata": {},
   "outputs": [],
   "source": []
  }
 ],
 "metadata": {
  "kernelspec": {
   "display_name": "Python 3 (ipykernel)",
   "language": "python",
   "name": "python3"
  },
  "language_info": {
   "codemirror_mode": {
    "name": "ipython",
    "version": 3
   },
   "file_extension": ".py",
   "mimetype": "text/x-python",
   "name": "python",
   "nbconvert_exporter": "python",
   "pygments_lexer": "ipython3",
   "version": "3.9.12"
  }
 },
 "nbformat": 4,
 "nbformat_minor": 5
}
