{
 "cells": [
  {
   "cell_type": "code",
   "execution_count": 1,
   "id": "aaaaaf33",
   "metadata": {},
   "outputs": [],
   "source": [
    "import pandas as pd\n",
    "\n",
    "df = pd.read_csv('data/LTOTALNSA.csv', index_col='DATE', parse_dates=True)"
   ]
  },
  {
   "cell_type": "code",
   "execution_count": 2,
   "id": "0ee16840",
   "metadata": {},
   "outputs": [
    {
     "data": {
      "text/html": [
       "<div>\n",
       "<style scoped>\n",
       "    .dataframe tbody tr th:only-of-type {\n",
       "        vertical-align: middle;\n",
       "    }\n",
       "\n",
       "    .dataframe tbody tr th {\n",
       "        vertical-align: top;\n",
       "    }\n",
       "\n",
       "    .dataframe thead th {\n",
       "        text-align: right;\n",
       "    }\n",
       "</style>\n",
       "<table border=\"1\" class=\"dataframe\">\n",
       "  <thead>\n",
       "    <tr style=\"text-align: right;\">\n",
       "      <th></th>\n",
       "      <th>LTOTALNSA</th>\n",
       "    </tr>\n",
       "    <tr>\n",
       "      <th>DATE</th>\n",
       "      <th></th>\n",
       "    </tr>\n",
       "  </thead>\n",
       "  <tbody>\n",
       "    <tr>\n",
       "      <th>1976-01-01</th>\n",
       "      <td>864.6</td>\n",
       "    </tr>\n",
       "    <tr>\n",
       "      <th>1976-02-01</th>\n",
       "      <td>973.3</td>\n",
       "    </tr>\n",
       "    <tr>\n",
       "      <th>1976-03-01</th>\n",
       "      <td>1216.1</td>\n",
       "    </tr>\n",
       "    <tr>\n",
       "      <th>1976-04-01</th>\n",
       "      <td>1163.2</td>\n",
       "    </tr>\n",
       "    <tr>\n",
       "      <th>1976-05-01</th>\n",
       "      <td>1176.1</td>\n",
       "    </tr>\n",
       "  </tbody>\n",
       "</table>\n",
       "</div>"
      ],
      "text/plain": [
       "            LTOTALNSA\n",
       "DATE                 \n",
       "1976-01-01      864.6\n",
       "1976-02-01      973.3\n",
       "1976-03-01     1216.1\n",
       "1976-04-01     1163.2\n",
       "1976-05-01     1176.1"
      ]
     },
     "execution_count": 2,
     "metadata": {},
     "output_type": "execute_result"
    }
   ],
   "source": [
    "df.head()"
   ]
  },
  {
   "cell_type": "markdown",
   "id": "1bda9ab7",
   "metadata": {},
   "source": [
    "## Resampling\n",
    "Simply put, resampling allows you to change the aggregation level of a time series. If you have data collected in hourly intervals but need daily totals for the analysis, resampling is the way to go."
   ]
  },
  {
   "cell_type": "code",
   "execution_count": 6,
   "id": "712de2f2",
   "metadata": {},
   "outputs": [
    {
     "data": {
      "text/html": [
       "<div>\n",
       "<style scoped>\n",
       "    .dataframe tbody tr th:only-of-type {\n",
       "        vertical-align: middle;\n",
       "    }\n",
       "\n",
       "    .dataframe tbody tr th {\n",
       "        vertical-align: top;\n",
       "    }\n",
       "\n",
       "    .dataframe thead th {\n",
       "        text-align: right;\n",
       "    }\n",
       "</style>\n",
       "<table border=\"1\" class=\"dataframe\">\n",
       "  <thead>\n",
       "    <tr style=\"text-align: right;\">\n",
       "      <th></th>\n",
       "      <th>LTOTALNSA</th>\n",
       "    </tr>\n",
       "    <tr>\n",
       "      <th>DATE</th>\n",
       "      <th></th>\n",
       "    </tr>\n",
       "  </thead>\n",
       "  <tbody>\n",
       "    <tr>\n",
       "      <th>1976-12-31</th>\n",
       "      <td>12969.8</td>\n",
       "    </tr>\n",
       "    <tr>\n",
       "      <th>1977-12-31</th>\n",
       "      <td>14481.9</td>\n",
       "    </tr>\n",
       "    <tr>\n",
       "      <th>1978-12-31</th>\n",
       "      <td>14981.0</td>\n",
       "    </tr>\n",
       "    <tr>\n",
       "      <th>1979-12-31</th>\n",
       "      <td>13758.4</td>\n",
       "    </tr>\n",
       "    <tr>\n",
       "      <th>1980-12-31</th>\n",
       "      <td>11197.5</td>\n",
       "    </tr>\n",
       "  </tbody>\n",
       "</table>\n",
       "</div>"
      ],
      "text/plain": [
       "            LTOTALNSA\n",
       "DATE                 \n",
       "1976-12-31    12969.8\n",
       "1977-12-31    14481.9\n",
       "1978-12-31    14981.0\n",
       "1979-12-31    13758.4\n",
       "1980-12-31    11197.5"
      ]
     },
     "execution_count": 6,
     "metadata": {},
     "output_type": "execute_result"
    }
   ],
   "source": [
    "yearly_total = df.resample(rule = 'Y').sum()\n",
    "yearly_total.head()"
   ]
  },
  {
   "cell_type": "markdown",
   "id": "f47c0c87",
   "metadata": {},
   "source": [
    "## Shifting\n",
    "将某一列的数据全部向下或者向上移位"
   ]
  },
  {
   "cell_type": "code",
   "execution_count": 7,
   "id": "460b210e",
   "metadata": {},
   "outputs": [
    {
     "data": {
      "text/html": [
       "<div>\n",
       "<style scoped>\n",
       "    .dataframe tbody tr th:only-of-type {\n",
       "        vertical-align: middle;\n",
       "    }\n",
       "\n",
       "    .dataframe tbody tr th {\n",
       "        vertical-align: top;\n",
       "    }\n",
       "\n",
       "    .dataframe thead th {\n",
       "        text-align: right;\n",
       "    }\n",
       "</style>\n",
       "<table border=\"1\" class=\"dataframe\">\n",
       "  <thead>\n",
       "    <tr style=\"text-align: right;\">\n",
       "      <th></th>\n",
       "      <th>LTOTALNSA</th>\n",
       "      <th>Shift_1</th>\n",
       "      <th>Shift_2</th>\n",
       "    </tr>\n",
       "    <tr>\n",
       "      <th>DATE</th>\n",
       "      <th></th>\n",
       "      <th></th>\n",
       "      <th></th>\n",
       "    </tr>\n",
       "  </thead>\n",
       "  <tbody>\n",
       "    <tr>\n",
       "      <th>1976-01-01</th>\n",
       "      <td>864.6</td>\n",
       "      <td>NaN</td>\n",
       "      <td>NaN</td>\n",
       "    </tr>\n",
       "    <tr>\n",
       "      <th>1976-02-01</th>\n",
       "      <td>973.3</td>\n",
       "      <td>864.6</td>\n",
       "      <td>NaN</td>\n",
       "    </tr>\n",
       "    <tr>\n",
       "      <th>1976-03-01</th>\n",
       "      <td>1216.1</td>\n",
       "      <td>973.3</td>\n",
       "      <td>864.6</td>\n",
       "    </tr>\n",
       "    <tr>\n",
       "      <th>1976-04-01</th>\n",
       "      <td>1163.2</td>\n",
       "      <td>1216.1</td>\n",
       "      <td>973.3</td>\n",
       "    </tr>\n",
       "    <tr>\n",
       "      <th>1976-05-01</th>\n",
       "      <td>1176.1</td>\n",
       "      <td>1163.2</td>\n",
       "      <td>1216.1</td>\n",
       "    </tr>\n",
       "  </tbody>\n",
       "</table>\n",
       "</div>"
      ],
      "text/plain": [
       "            LTOTALNSA  Shift_1  Shift_2\n",
       "DATE                                   \n",
       "1976-01-01      864.6      NaN      NaN\n",
       "1976-02-01      973.3    864.6      NaN\n",
       "1976-03-01     1216.1    973.3    864.6\n",
       "1976-04-01     1163.2   1216.1    973.3\n",
       "1976-05-01     1176.1   1163.2   1216.1"
      ]
     },
     "execution_count": 7,
     "metadata": {},
     "output_type": "execute_result"
    }
   ],
   "source": [
    "df_shift = df.copy()\n",
    "df_shift['Shift_1'] = df_shift['LTOTALNSA'].shift(1)\n",
    "df_shift['Shift_2'] = df_shift['LTOTALNSA'].shift(2)\n",
    "df_shift.head()"
   ]
  },
  {
   "cell_type": "markdown",
   "id": "fb89f497",
   "metadata": {},
   "source": [
    "## Rolling\n",
    "可以按照季度/年度统计"
   ]
  },
  {
   "cell_type": "code",
   "execution_count": 9,
   "id": "91e5a74c",
   "metadata": {},
   "outputs": [
    {
     "data": {
      "text/html": [
       "<div>\n",
       "<style scoped>\n",
       "    .dataframe tbody tr th:only-of-type {\n",
       "        vertical-align: middle;\n",
       "    }\n",
       "\n",
       "    .dataframe tbody tr th {\n",
       "        vertical-align: top;\n",
       "    }\n",
       "\n",
       "    .dataframe thead th {\n",
       "        text-align: right;\n",
       "    }\n",
       "</style>\n",
       "<table border=\"1\" class=\"dataframe\">\n",
       "  <thead>\n",
       "    <tr style=\"text-align: right;\">\n",
       "      <th></th>\n",
       "      <th>LTOTALNSA</th>\n",
       "      <th>QuaterRolling</th>\n",
       "      <th>YearRolling</th>\n",
       "    </tr>\n",
       "    <tr>\n",
       "      <th>DATE</th>\n",
       "      <th></th>\n",
       "      <th></th>\n",
       "      <th></th>\n",
       "    </tr>\n",
       "  </thead>\n",
       "  <tbody>\n",
       "    <tr>\n",
       "      <th>1976-01-01</th>\n",
       "      <td>864.6</td>\n",
       "      <td>NaN</td>\n",
       "      <td>NaN</td>\n",
       "    </tr>\n",
       "    <tr>\n",
       "      <th>1976-02-01</th>\n",
       "      <td>973.3</td>\n",
       "      <td>NaN</td>\n",
       "      <td>NaN</td>\n",
       "    </tr>\n",
       "    <tr>\n",
       "      <th>1976-03-01</th>\n",
       "      <td>1216.1</td>\n",
       "      <td>1018.000000</td>\n",
       "      <td>NaN</td>\n",
       "    </tr>\n",
       "    <tr>\n",
       "      <th>1976-04-01</th>\n",
       "      <td>1163.2</td>\n",
       "      <td>1117.533333</td>\n",
       "      <td>NaN</td>\n",
       "    </tr>\n",
       "    <tr>\n",
       "      <th>1976-05-01</th>\n",
       "      <td>1176.1</td>\n",
       "      <td>1185.133333</td>\n",
       "      <td>NaN</td>\n",
       "    </tr>\n",
       "  </tbody>\n",
       "</table>\n",
       "</div>"
      ],
      "text/plain": [
       "            LTOTALNSA  QuaterRolling  YearRolling\n",
       "DATE                                             \n",
       "1976-01-01      864.6            NaN          NaN\n",
       "1976-02-01      973.3            NaN          NaN\n",
       "1976-03-01     1216.1    1018.000000          NaN\n",
       "1976-04-01     1163.2    1117.533333          NaN\n",
       "1976-05-01     1176.1    1185.133333          NaN"
      ]
     },
     "execution_count": 9,
     "metadata": {},
     "output_type": "execute_result"
    }
   ],
   "source": [
    "df_rolling = df.copy()\n",
    "df_rolling['QuaterRolling'] = df_rolling['LTOTALNSA'].rolling(window=3).mean()\n",
    "df_rolling['YearRolling'] = df_rolling['LTOTALNSA'].rolling(window=12).mean()\n",
    "df_rolling.head()"
   ]
  },
  {
   "cell_type": "markdown",
   "id": "5458ece3",
   "metadata": {},
   "source": [
    "## Deferencing\n",
    "financial data<br>\n",
    "计算差值"
   ]
  },
  {
   "cell_type": "code",
   "execution_count": 10,
   "id": "9f35ae39",
   "metadata": {},
   "outputs": [
    {
     "data": {
      "text/html": [
       "<div>\n",
       "<style scoped>\n",
       "    .dataframe tbody tr th:only-of-type {\n",
       "        vertical-align: middle;\n",
       "    }\n",
       "\n",
       "    .dataframe tbody tr th {\n",
       "        vertical-align: top;\n",
       "    }\n",
       "\n",
       "    .dataframe thead th {\n",
       "        text-align: right;\n",
       "    }\n",
       "</style>\n",
       "<table border=\"1\" class=\"dataframe\">\n",
       "  <thead>\n",
       "    <tr style=\"text-align: right;\">\n",
       "      <th></th>\n",
       "      <th>LTOTALNSA</th>\n",
       "      <th>Diff_1</th>\n",
       "      <th>Diff_2</th>\n",
       "    </tr>\n",
       "    <tr>\n",
       "      <th>DATE</th>\n",
       "      <th></th>\n",
       "      <th></th>\n",
       "      <th></th>\n",
       "    </tr>\n",
       "  </thead>\n",
       "  <tbody>\n",
       "    <tr>\n",
       "      <th>1976-01-01</th>\n",
       "      <td>864.6</td>\n",
       "      <td>NaN</td>\n",
       "      <td>NaN</td>\n",
       "    </tr>\n",
       "    <tr>\n",
       "      <th>1976-02-01</th>\n",
       "      <td>973.3</td>\n",
       "      <td>108.7</td>\n",
       "      <td>NaN</td>\n",
       "    </tr>\n",
       "    <tr>\n",
       "      <th>1976-03-01</th>\n",
       "      <td>1216.1</td>\n",
       "      <td>242.8</td>\n",
       "      <td>351.5</td>\n",
       "    </tr>\n",
       "    <tr>\n",
       "      <th>1976-04-01</th>\n",
       "      <td>1163.2</td>\n",
       "      <td>-52.9</td>\n",
       "      <td>189.9</td>\n",
       "    </tr>\n",
       "    <tr>\n",
       "      <th>1976-05-01</th>\n",
       "      <td>1176.1</td>\n",
       "      <td>12.9</td>\n",
       "      <td>-40.0</td>\n",
       "    </tr>\n",
       "  </tbody>\n",
       "</table>\n",
       "</div>"
      ],
      "text/plain": [
       "            LTOTALNSA  Diff_1  Diff_2\n",
       "DATE                                 \n",
       "1976-01-01      864.6     NaN     NaN\n",
       "1976-02-01      973.3   108.7     NaN\n",
       "1976-03-01     1216.1   242.8   351.5\n",
       "1976-04-01     1163.2   -52.9   189.9\n",
       "1976-05-01     1176.1    12.9   -40.0"
      ]
     },
     "execution_count": 10,
     "metadata": {},
     "output_type": "execute_result"
    }
   ],
   "source": [
    "df_diff = df.copy()\n",
    "df_diff['Diff_1'] = df_diff['LTOTALNSA'].diff(periods=1)\n",
    "df_diff['Diff_2'] = df_diff['LTOTALNSA'].diff(periods=2)\n",
    "df_diff.head()\n",
    "\n",
    "# First order:   973.3 - 864.6 = 108.7\n",
    "# Second order: 1216.1 - 864.6 = 351.5"
   ]
  },
  {
   "cell_type": "code",
   "execution_count": null,
   "id": "32c8e0f1",
   "metadata": {},
   "outputs": [],
   "source": []
  }
 ],
 "metadata": {
  "kernelspec": {
   "display_name": "Python 3 (ipykernel)",
   "language": "python",
   "name": "python3"
  },
  "language_info": {
   "codemirror_mode": {
    "name": "ipython",
    "version": 3
   },
   "file_extension": ".py",
   "mimetype": "text/x-python",
   "name": "python",
   "nbconvert_exporter": "python",
   "pygments_lexer": "ipython3",
   "version": "3.9.12"
  }
 },
 "nbformat": 4,
 "nbformat_minor": 5
}
